{
  "nbformat": 4,
  "nbformat_minor": 0,
  "metadata": {
    "colab": {
      "provenance": [],
      "authorship_tag": "ABX9TyMJ4UGQKMm5y1gB0745Lrjf",
      "include_colab_link": true
    },
    "kernelspec": {
      "name": "python3",
      "display_name": "Python 3"
    },
    "language_info": {
      "name": "python"
    }
  },
  "cells": [
    {
      "cell_type": "markdown",
      "metadata": {
        "id": "view-in-github",
        "colab_type": "text"
      },
      "source": [
        "<a href=\"https://colab.research.google.com/github/habilg/colab/blob/master/01_Pytorch%2C_tensors1.ipynb\" target=\"_parent\"><img src=\"https://colab.research.google.com/assets/colab-badge.svg\" alt=\"Open In Colab\"/></a>"
      ]
    },
    {
      "cell_type": "code",
      "execution_count": 1,
      "metadata": {
        "id": "0-_CehxzDtoB"
      },
      "outputs": [],
      "source": [
        "import torch\n",
        "import numpy as np"
      ]
    },
    {
      "cell_type": "code",
      "source": [
        "print(torch.__version__)"
      ],
      "metadata": {
        "colab": {
          "base_uri": "https://localhost:8080/"
        },
        "id": "5ejDXxVrD_G2",
        "outputId": "f782c465-b2a0-48a9-9285-4a542a6c25cb"
      },
      "execution_count": 2,
      "outputs": [
        {
          "output_type": "stream",
          "name": "stdout",
          "text": [
            "1.12.1+cu113\n"
          ]
        }
      ]
    },
    {
      "cell_type": "code",
      "source": [
        "torch.get_default_dtype()"
      ],
      "metadata": {
        "colab": {
          "base_uri": "https://localhost:8080/"
        },
        "id": "CVDsAtA1ECVj",
        "outputId": "f17e7ee0-329a-43e5-e386-1521b1491422"
      },
      "execution_count": 3,
      "outputs": [
        {
          "output_type": "execute_result",
          "data": {
            "text/plain": [
              "torch.float32"
            ]
          },
          "metadata": {},
          "execution_count": 3
        }
      ]
    },
    {
      "cell_type": "code",
      "source": [
        "#torch.set_default_dtype(torch.float64) torch.float16"
      ],
      "metadata": {
        "id": "CcYFVSfpEKBF"
      },
      "execution_count": 4,
      "outputs": []
    },
    {
      "cell_type": "markdown",
      "source": [
        "# Create Tensors\n",
        "\n"
      ],
      "metadata": {
        "id": "ejjjtn0KEoTY"
      }
    },
    {
      "cell_type": "code",
      "source": [
        "tensor_arr= torch.Tensor([[1,2,3],[4,5,6]]) # is alias for torch.FloatTensor()\n",
        "numpy_arr=np.array([[1,2,3],[4,5,6]])"
      ],
      "metadata": {
        "id": "sXgQlgiQEXX2"
      },
      "execution_count": 5,
      "outputs": []
    },
    {
      "cell_type": "code",
      "source": [
        "tensor_arr"
      ],
      "metadata": {
        "colab": {
          "base_uri": "https://localhost:8080/"
        },
        "id": "tdO0nul_E6GS",
        "outputId": "5dd49bc6-6171-4aac-ee98-3ec0038f5c70"
      },
      "execution_count": 6,
      "outputs": [
        {
          "output_type": "execute_result",
          "data": {
            "text/plain": [
              "tensor([[1., 2., 3.],\n",
              "        [4., 5., 6.]])"
            ]
          },
          "metadata": {},
          "execution_count": 6
        }
      ]
    },
    {
      "cell_type": "code",
      "source": [
        "torch.is_tensor(tensor_arr)"
      ],
      "metadata": {
        "colab": {
          "base_uri": "https://localhost:8080/"
        },
        "id": "i9T4Zny6FIGX",
        "outputId": "fc7c3755-d0cb-4a57-9e13-9237a52007c5"
      },
      "execution_count": 7,
      "outputs": [
        {
          "output_type": "execute_result",
          "data": {
            "text/plain": [
              "True"
            ]
          },
          "metadata": {},
          "execution_count": 7
        }
      ]
    },
    {
      "cell_type": "code",
      "source": [
        "torch.numel(tensor_arr)"
      ],
      "metadata": {
        "colab": {
          "base_uri": "https://localhost:8080/"
        },
        "id": "yYIjBLQpFMrg",
        "outputId": "ce0fa519-62a9-4b89-a69f-037a28eac0e6"
      },
      "execution_count": 9,
      "outputs": [
        {
          "output_type": "execute_result",
          "data": {
            "text/plain": [
              "6"
            ]
          },
          "metadata": {},
          "execution_count": 9
        }
      ]
    },
    {
      "cell_type": "code",
      "source": [
        "np.size(numpy_arr)"
      ],
      "metadata": {
        "colab": {
          "base_uri": "https://localhost:8080/"
        },
        "id": "f5uDKxpHFSU9",
        "outputId": "baa117a8-8d9b-4ca8-be6a-8f768384a187"
      },
      "execution_count": 10,
      "outputs": [
        {
          "output_type": "execute_result",
          "data": {
            "text/plain": [
              "6"
            ]
          },
          "metadata": {},
          "execution_count": 10
        }
      ]
    },
    {
      "cell_type": "code",
      "source": [
        "tensor_uninitialized= torch.Tensor(2,2)\n",
        "tensor_uninitialized"
      ],
      "metadata": {
        "colab": {
          "base_uri": "https://localhost:8080/"
        },
        "id": "wZmheRS-Fgzs",
        "outputId": "b1573c00-7275-4c4b-8969-72b99c2fb1d4"
      },
      "execution_count": 11,
      "outputs": [
        {
          "output_type": "execute_result",
          "data": {
            "text/plain": [
              "tensor([[1.0163e-34, 0.0000e+00],\n",
              "        [3.3631e-44, 0.0000e+00]])"
            ]
          },
          "metadata": {},
          "execution_count": 11
        }
      ]
    },
    {
      "cell_type": "code",
      "source": [
        "tensor_initialized=torch.rand(2,2)\n",
        "tensor_initialized"
      ],
      "metadata": {
        "colab": {
          "base_uri": "https://localhost:8080/"
        },
        "id": "0X-t4ad2FaQ2",
        "outputId": "bc099465-10a7-4a25-812c-75521e317dc2"
      },
      "execution_count": 14,
      "outputs": [
        {
          "output_type": "execute_result",
          "data": {
            "text/plain": [
              "tensor([[0.2974, 0.6244],\n",
              "        [0.5497, 0.8500]])"
            ]
          },
          "metadata": {},
          "execution_count": 14
        }
      ]
    },
    {
      "cell_type": "code",
      "source": [
        "tensor_initialized_normal=torch.randn(2,2)\n",
        "tensor_initialized_normal"
      ],
      "metadata": {
        "colab": {
          "base_uri": "https://localhost:8080/"
        },
        "id": "IN_E5vwbF1xP",
        "outputId": "3aa000eb-5ffb-4e12-c803-456b2ba30b04"
      },
      "execution_count": 16,
      "outputs": [
        {
          "output_type": "execute_result",
          "data": {
            "text/plain": [
              "tensor([[ 1.2225,  3.0498],\n",
              "        [-0.4034,  1.6983]])"
            ]
          },
          "metadata": {},
          "execution_count": 16
        }
      ]
    },
    {
      "cell_type": "code",
      "source": [
        "array_initialized_normal= np.random.normal(size=(2,2))\n",
        "array_initialized_normal"
      ],
      "metadata": {
        "colab": {
          "base_uri": "https://localhost:8080/"
        },
        "id": "WEwEa0ULGBwv",
        "outputId": "bd7be083-18dc-4636-89ff-1d4f6db3cf80"
      },
      "execution_count": 19,
      "outputs": [
        {
          "output_type": "execute_result",
          "data": {
            "text/plain": [
              "array([[-1.65748112, -1.84460055],\n",
              "       [-1.45167775,  0.57240479]])"
            ]
          },
          "metadata": {},
          "execution_count": 19
        }
      ]
    },
    {
      "cell_type": "code",
      "source": [
        "tensor_int= torch.tensor([5,3]).type(torch.IntTensor) # create a tensor for CPU\n",
        "tensor_int"
      ],
      "metadata": {
        "colab": {
          "base_uri": "https://localhost:8080/"
        },
        "id": "6RY2f9CtGNJw",
        "outputId": "bbfb25d6-af76-4166-b90a-2bb376aa7f55"
      },
      "execution_count": 20,
      "outputs": [
        {
          "output_type": "execute_result",
          "data": {
            "text/plain": [
              "tensor([5, 3], dtype=torch.int32)"
            ]
          },
          "metadata": {},
          "execution_count": 20
        }
      ]
    },
    {
      "cell_type": "code",
      "source": [
        "tensor_short= torch.ShortTensor([1.0,2.0,3.0])\n",
        "tensor_short"
      ],
      "metadata": {
        "colab": {
          "base_uri": "https://localhost:8080/"
        },
        "id": "cm3FjOH8HLCG",
        "outputId": "a2d781b1-9ff6-451c-c6a1-b61ef22db383"
      },
      "execution_count": 22,
      "outputs": [
        {
          "output_type": "execute_result",
          "data": {
            "text/plain": [
              "tensor([1, 2, 3], dtype=torch.int16)"
            ]
          },
          "metadata": {},
          "execution_count": 22
        }
      ]
    },
    {
      "cell_type": "code",
      "source": [
        "tensor_half_float= torch.tensor([1.0,2.0,3.0]).type(torch.half)\n",
        "tensor_half_float"
      ],
      "metadata": {
        "colab": {
          "base_uri": "https://localhost:8080/"
        },
        "id": "Y8GcLwRSHkok",
        "outputId": "e49c786a-cf39-4a6b-f20c-774338b27afb"
      },
      "execution_count": 24,
      "outputs": [
        {
          "output_type": "execute_result",
          "data": {
            "text/plain": [
              "tensor([1., 2., 3.], dtype=torch.float16)"
            ]
          },
          "metadata": {},
          "execution_count": 24
        }
      ]
    },
    {
      "cell_type": "code",
      "source": [
        "torch.ones(2,2)"
      ],
      "metadata": {
        "colab": {
          "base_uri": "https://localhost:8080/"
        },
        "id": "S24LOxFbH2T8",
        "outputId": "de6effa9-0f1f-414f-b35a-885c573d9c53"
      },
      "execution_count": 25,
      "outputs": [
        {
          "output_type": "execute_result",
          "data": {
            "text/plain": [
              "tensor([[1., 1.],\n",
              "        [1., 1.]])"
            ]
          },
          "metadata": {},
          "execution_count": 25
        }
      ]
    },
    {
      "cell_type": "code",
      "source": [
        "torch.zeros(2,2)"
      ],
      "metadata": {
        "colab": {
          "base_uri": "https://localhost:8080/"
        },
        "id": "sUE-JF0xIJOZ",
        "outputId": "0bc3a64a-5b1c-4cd6-b3aa-c1b6ab047e3e"
      },
      "execution_count": 26,
      "outputs": [
        {
          "output_type": "execute_result",
          "data": {
            "text/plain": [
              "tensor([[0., 0.],\n",
              "        [0., 0.]])"
            ]
          },
          "metadata": {},
          "execution_count": 26
        }
      ]
    },
    {
      "cell_type": "code",
      "source": [
        "torch.full((2,2),fill_value=10)"
      ],
      "metadata": {
        "colab": {
          "base_uri": "https://localhost:8080/"
        },
        "id": "li8k2-JaINew",
        "outputId": "8376152d-565b-467c-c06b-ec127a2f9d95"
      },
      "execution_count": 27,
      "outputs": [
        {
          "output_type": "execute_result",
          "data": {
            "text/plain": [
              "tensor([[10, 10],\n",
              "        [10, 10]])"
            ]
          },
          "metadata": {},
          "execution_count": 27
        }
      ]
    },
    {
      "cell_type": "code",
      "source": [
        "tensor_eye=torch.eye(4)\n",
        "tensor_eye"
      ],
      "metadata": {
        "colab": {
          "base_uri": "https://localhost:8080/"
        },
        "id": "AZ6hUrizIuuv",
        "outputId": "0cbe1abe-bc27-4055-95c2-2e7fa2931633"
      },
      "execution_count": 29,
      "outputs": [
        {
          "output_type": "execute_result",
          "data": {
            "text/plain": [
              "tensor([[1., 0., 0., 0.],\n",
              "        [0., 1., 0., 0.],\n",
              "        [0., 0., 1., 0.],\n",
              "        [0., 0., 0., 1.]])"
            ]
          },
          "metadata": {},
          "execution_count": 29
        }
      ]
    },
    {
      "cell_type": "code",
      "source": [
        "torch.nonzero(tensor_eye)"
      ],
      "metadata": {
        "colab": {
          "base_uri": "https://localhost:8080/"
        },
        "id": "gWlhTSoKI5al",
        "outputId": "422253b5-b33a-4ded-8c72-6562e959f93c"
      },
      "execution_count": 30,
      "outputs": [
        {
          "output_type": "execute_result",
          "data": {
            "text/plain": [
              "tensor([[0, 0],\n",
              "        [1, 1],\n",
              "        [2, 2],\n",
              "        [3, 3]])"
            ]
          },
          "metadata": {},
          "execution_count": 30
        }
      ]
    },
    {
      "cell_type": "markdown",
      "source": [
        "### \"_like\" functions\n",
        "zeros_like, ones_like"
      ],
      "metadata": {
        "id": "8wVE_ZHvIgYS"
      }
    },
    {
      "cell_type": "markdown",
      "source": [
        "torch.tensor always makes a copy of the underlying data of the tensor"
      ],
      "metadata": {
        "id": "1vaoIAfcJLB8"
      }
    },
    {
      "cell_type": "markdown",
      "source": [
        "### SPARSE  tensors"
      ],
      "metadata": {
        "id": "Toryes9OJdV8"
      }
    },
    {
      "cell_type": "code",
      "source": [
        "i= torch.Tensor([[0,1,1],\n",
        "                 [2,2,0]])\n"
      ],
      "metadata": {
        "id": "MhJkVsFiJc2C"
      },
      "execution_count": 43,
      "outputs": []
    },
    {
      "cell_type": "code",
      "source": [
        "v=torch.Tensor([3,4,5])"
      ],
      "metadata": {
        "id": "966gDehrITLe"
      },
      "execution_count": 50,
      "outputs": []
    },
    {
      "cell_type": "code",
      "source": [
        "sparse_tensor= torch.sparse_coo_tensor(i,v,[2,5])"
      ],
      "metadata": {
        "id": "p3_7CMzfKlU-"
      },
      "execution_count": 51,
      "outputs": []
    },
    {
      "cell_type": "code",
      "source": [
        "sparse_tensor.data"
      ],
      "metadata": {
        "colab": {
          "base_uri": "https://localhost:8080/"
        },
        "id": "TplfrThWKoKp",
        "outputId": "bb20e2ca-3f98-4552-fd8d-c4351cd2f4ed"
      },
      "execution_count": 53,
      "outputs": [
        {
          "output_type": "execute_result",
          "data": {
            "text/plain": [
              "tensor(indices=tensor([[0, 1, 1],\n",
              "                       [2, 2, 0]]),\n",
              "       values=tensor([3., 4., 5.]),\n",
              "       size=(2, 5), nnz=3, layout=torch.sparse_coo)"
            ]
          },
          "metadata": {},
          "execution_count": 53
        }
      ]
    },
    {
      "cell_type": "code",
      "source": [],
      "metadata": {
        "id": "AhhzpgLlYta0"
      },
      "execution_count": null,
      "outputs": []
    },
    {
      "cell_type": "markdown",
      "source": [
        "# Operations\n",
        "\n",
        "\"_\" functions : change the tensor inplace"
      ],
      "metadata": {
        "id": "kxAOCN7hZPac"
      }
    },
    {
      "cell_type": "code",
      "source": [
        "initial_tensor=torch.rand(4,4)\n",
        "initial_tensor"
      ],
      "metadata": {
        "colab": {
          "base_uri": "https://localhost:8080/"
        },
        "id": "az4i--7MZRUv",
        "outputId": "6f5d0455-34f5-46e4-c3c6-232644869023"
      },
      "execution_count": 55,
      "outputs": [
        {
          "output_type": "execute_result",
          "data": {
            "text/plain": [
              "tensor([[0.0637, 0.6601, 0.0357, 0.7289],\n",
              "        [0.1051, 0.0856, 0.1847, 0.8572],\n",
              "        [0.7711, 0.7745, 0.5348, 0.5640],\n",
              "        [0.6546, 0.0545, 0.4191, 0.2801]])"
            ]
          },
          "metadata": {},
          "execution_count": 55
        }
      ]
    },
    {
      "cell_type": "code",
      "source": [
        "initial_tensor.fill_(10) "
      ],
      "metadata": {
        "colab": {
          "base_uri": "https://localhost:8080/"
        },
        "id": "ktodtHdHZok7",
        "outputId": "28633114-8e3a-4a5d-c47b-ae6af94afaa2"
      },
      "execution_count": 57,
      "outputs": [
        {
          "output_type": "execute_result",
          "data": {
            "text/plain": [
              "tensor([[10., 10., 10., 10.],\n",
              "        [10., 10., 10., 10.],\n",
              "        [10., 10., 10., 10.],\n",
              "        [10., 10., 10., 10.]])"
            ]
          },
          "metadata": {},
          "execution_count": 57
        }
      ]
    },
    {
      "cell_type": "code",
      "source": [
        "initial_tensor"
      ],
      "metadata": {
        "colab": {
          "base_uri": "https://localhost:8080/"
        },
        "id": "xQtj3x2uZt3K",
        "outputId": "b2627384-7bcd-4fd4-ef7a-a555c2542975"
      },
      "execution_count": 58,
      "outputs": [
        {
          "output_type": "execute_result",
          "data": {
            "text/plain": [
              "tensor([[10., 10., 10., 10.],\n",
              "        [10., 10., 10., 10.],\n",
              "        [10., 10., 10., 10.],\n",
              "        [10., 10., 10., 10.]])"
            ]
          },
          "metadata": {},
          "execution_count": 58
        }
      ]
    },
    {
      "cell_type": "code",
      "source": [
        "new_tensor= initial_tensor.add(5)\n",
        "new_tensor"
      ],
      "metadata": {
        "colab": {
          "base_uri": "https://localhost:8080/"
        },
        "id": "ywybky58Z1Tj",
        "outputId": "b8d06420-7982-433e-de10-34b4aea70fe2"
      },
      "execution_count": 59,
      "outputs": [
        {
          "output_type": "execute_result",
          "data": {
            "text/plain": [
              "tensor([[15., 15., 15., 15.],\n",
              "        [15., 15., 15., 15.],\n",
              "        [15., 15., 15., 15.],\n",
              "        [15., 15., 15., 15.]])"
            ]
          },
          "metadata": {},
          "execution_count": 59
        }
      ]
    },
    {
      "cell_type": "code",
      "source": [
        "initial_tensor"
      ],
      "metadata": {
        "colab": {
          "base_uri": "https://localhost:8080/"
        },
        "id": "M194YkkpaCXc",
        "outputId": "4a229dff-a2c3-4993-9b02-de22b9a5abec"
      },
      "execution_count": 60,
      "outputs": [
        {
          "output_type": "execute_result",
          "data": {
            "text/plain": [
              "tensor([[10., 10., 10., 10.],\n",
              "        [10., 10., 10., 10.],\n",
              "        [10., 10., 10., 10.],\n",
              "        [10., 10., 10., 10.]])"
            ]
          },
          "metadata": {},
          "execution_count": 60
        }
      ]
    },
    {
      "cell_type": "code",
      "source": [
        "new_tensor2=initial_tensor.add_(5)\n",
        "new_tensor2"
      ],
      "metadata": {
        "colab": {
          "base_uri": "https://localhost:8080/"
        },
        "id": "ZN3KEKqmaDyE",
        "outputId": "10a8065d-101d-4423-b029-6e1ffe4be313"
      },
      "execution_count": 62,
      "outputs": [
        {
          "output_type": "execute_result",
          "data": {
            "text/plain": [
              "tensor([[20., 20., 20., 20.],\n",
              "        [20., 20., 20., 20.],\n",
              "        [20., 20., 20., 20.],\n",
              "        [20., 20., 20., 20.]])"
            ]
          },
          "metadata": {},
          "execution_count": 62
        }
      ]
    },
    {
      "cell_type": "code",
      "source": [
        "initial_tensor"
      ],
      "metadata": {
        "colab": {
          "base_uri": "https://localhost:8080/"
        },
        "id": "JBRkimOWaJPW",
        "outputId": "48dcc0b6-437e-4c46-bfeb-a425b322394c"
      },
      "execution_count": 63,
      "outputs": [
        {
          "output_type": "execute_result",
          "data": {
            "text/plain": [
              "tensor([[20., 20., 20., 20.],\n",
              "        [20., 20., 20., 20.],\n",
              "        [20., 20., 20., 20.],\n",
              "        [20., 20., 20., 20.]])"
            ]
          },
          "metadata": {},
          "execution_count": 63
        }
      ]
    },
    {
      "cell_type": "code",
      "source": [
        "new_tensor.sqrt_()"
      ],
      "metadata": {
        "colab": {
          "base_uri": "https://localhost:8080/"
        },
        "id": "oc_qtL4raM8T",
        "outputId": "d270f9af-7756-45e7-ae9e-2255ef10c763"
      },
      "execution_count": 64,
      "outputs": [
        {
          "output_type": "execute_result",
          "data": {
            "text/plain": [
              "tensor([[3.8730, 3.8730, 3.8730, 3.8730],\n",
              "        [3.8730, 3.8730, 3.8730, 3.8730],\n",
              "        [3.8730, 3.8730, 3.8730, 3.8730],\n",
              "        [3.8730, 3.8730, 3.8730, 3.8730]])"
            ]
          },
          "metadata": {},
          "execution_count": 64
        }
      ]
    },
    {
      "cell_type": "code",
      "source": [
        "x= torch.linspace(start=0.1, end=10.0, steps=15)\n",
        "x"
      ],
      "metadata": {
        "colab": {
          "base_uri": "https://localhost:8080/"
        },
        "id": "HTL_msSparad",
        "outputId": "111a3de8-c62f-4ab7-89ee-9fb2acda7ced"
      },
      "execution_count": 66,
      "outputs": [
        {
          "output_type": "execute_result",
          "data": {
            "text/plain": [
              "tensor([ 0.1000,  0.8071,  1.5143,  2.2214,  2.9286,  3.6357,  4.3429,  5.0500,\n",
              "         5.7571,  6.4643,  7.1714,  7.8786,  8.5857,  9.2929, 10.0000])"
            ]
          },
          "metadata": {},
          "execution_count": 66
        }
      ]
    },
    {
      "cell_type": "code",
      "source": [
        "tensor_chunk=torch.chunk(x,3,0)\n",
        "tensor_chunk"
      ],
      "metadata": {
        "colab": {
          "base_uri": "https://localhost:8080/"
        },
        "id": "TODVCM25azyg",
        "outputId": "770e9039-4ba9-480d-df8f-e4947b9375b6"
      },
      "execution_count": 69,
      "outputs": [
        {
          "output_type": "execute_result",
          "data": {
            "text/plain": [
              "(tensor([0.1000, 0.8071, 1.5143, 2.2214, 2.9286]),\n",
              " tensor([3.6357, 4.3429, 5.0500, 5.7571, 6.4643]),\n",
              " tensor([ 7.1714,  7.8786,  8.5857,  9.2929, 10.0000]))"
            ]
          },
          "metadata": {},
          "execution_count": 69
        }
      ]
    },
    {
      "cell_type": "code",
      "source": [
        "tensor1= tensor_chunk[0]\n",
        "tensor2= tensor_chunk[1]\n",
        "tensor3=torch.Tensor([3,4,5])\n",
        "\n",
        "torch.cat((tensor1,tensor2,tensor3),0) "
      ],
      "metadata": {
        "colab": {
          "base_uri": "https://localhost:8080/"
        },
        "id": "C-irZBp0a8TG",
        "outputId": "a6554395-679d-4f48-aca2-138db60154c9"
      },
      "execution_count": 70,
      "outputs": [
        {
          "output_type": "execute_result",
          "data": {
            "text/plain": [
              "tensor([0.1000, 0.8071, 1.5143, 2.2214, 2.9286, 3.6357, 4.3429, 5.0500, 5.7571,\n",
              "        6.4643, 3.0000, 4.0000, 5.0000])"
            ]
          },
          "metadata": {},
          "execution_count": 70
        }
      ]
    },
    {
      "cell_type": "code",
      "source": [
        "random_tensor=torch.randint(10,(3,3))\n",
        "random_tensor"
      ],
      "metadata": {
        "colab": {
          "base_uri": "https://localhost:8080/"
        },
        "id": "Wm763I4DbgdG",
        "outputId": "f5c974d4-aa60-4238-ec87-6be202425040"
      },
      "execution_count": 74,
      "outputs": [
        {
          "output_type": "execute_result",
          "data": {
            "text/plain": [
              "tensor([[6, 5, 7],\n",
              "        [9, 0, 3],\n",
              "        [9, 6, 8]])"
            ]
          },
          "metadata": {},
          "execution_count": 74
        }
      ]
    },
    {
      "cell_type": "code",
      "source": [
        "random_tensor.size()"
      ],
      "metadata": {
        "colab": {
          "base_uri": "https://localhost:8080/"
        },
        "id": "_g9bMUYCb_n2",
        "outputId": "7cca0e8e-32e9-46f2-aa45-c6a9e1b4ef8b"
      },
      "execution_count": 76,
      "outputs": [
        {
          "output_type": "execute_result",
          "data": {
            "text/plain": [
              "torch.Size([3, 3])"
            ]
          },
          "metadata": {},
          "execution_count": 76
        }
      ]
    },
    {
      "cell_type": "code",
      "source": [
        "random_tensor[1,0]"
      ],
      "metadata": {
        "colab": {
          "base_uri": "https://localhost:8080/"
        },
        "id": "gAGhBgJucb4c",
        "outputId": "0d2e3d7d-4b9c-4bb5-f366-0338d0e093f2"
      },
      "execution_count": 77,
      "outputs": [
        {
          "output_type": "execute_result",
          "data": {
            "text/plain": [
              "tensor(9)"
            ]
          },
          "metadata": {},
          "execution_count": 77
        }
      ]
    },
    {
      "cell_type": "code",
      "source": [
        "resized_tensor=random_tensor.view(9) #share the same memory with original tensor!\n",
        "resized_tensor"
      ],
      "metadata": {
        "colab": {
          "base_uri": "https://localhost:8080/"
        },
        "id": "8PcMO0Accsy5",
        "outputId": "54c04449-e331-4c3e-bc08-040d522c3533"
      },
      "execution_count": 80,
      "outputs": [
        {
          "output_type": "execute_result",
          "data": {
            "text/plain": [
              "tensor([6, 5, 7, 9, 0, 3, 9, 6, 8])"
            ]
          },
          "metadata": {},
          "execution_count": 80
        }
      ]
    },
    {
      "cell_type": "code",
      "source": [
        "random_tensor"
      ],
      "metadata": {
        "colab": {
          "base_uri": "https://localhost:8080/"
        },
        "id": "pRVUGuFvceyB",
        "outputId": "dcb25949-288d-4e35-bea4-b7fb3953d6e0"
      },
      "execution_count": 79,
      "outputs": [
        {
          "output_type": "execute_result",
          "data": {
            "text/plain": [
              "tensor([[6, 5, 7],\n",
              "        [9, 0, 3],\n",
              "        [9, 6, 8]])"
            ]
          },
          "metadata": {},
          "execution_count": 79
        }
      ]
    },
    {
      "cell_type": "code",
      "source": [
        "random_tensor[2,2]=100.0\n",
        "resized_tensor"
      ],
      "metadata": {
        "colab": {
          "base_uri": "https://localhost:8080/"
        },
        "id": "YJWBYsXAcyrh",
        "outputId": "d278a969-0b98-4f89-8e00-576fcef6b298"
      },
      "execution_count": 81,
      "outputs": [
        {
          "output_type": "execute_result",
          "data": {
            "text/plain": [
              "tensor([  6,   5,   7,   9,   0,   3,   9,   6, 100])"
            ]
          },
          "metadata": {},
          "execution_count": 81
        }
      ]
    },
    {
      "cell_type": "code",
      "source": [
        "random_tensor.shape"
      ],
      "metadata": {
        "colab": {
          "base_uri": "https://localhost:8080/"
        },
        "id": "lgS8OTyrdODi",
        "outputId": "5a87e0ef-969a-40bb-b03c-b78673a07fc6"
      },
      "execution_count": 82,
      "outputs": [
        {
          "output_type": "execute_result",
          "data": {
            "text/plain": [
              "torch.Size([3, 3])"
            ]
          },
          "metadata": {},
          "execution_count": 82
        }
      ]
    },
    {
      "cell_type": "code",
      "source": [
        "#reshaping \n",
        "tensor_unsqueeze= torch.unsqueeze(random_tensor,1)"
      ],
      "metadata": {
        "id": "YPBLqLbPdVF4"
      },
      "execution_count": 83,
      "outputs": []
    },
    {
      "cell_type": "code",
      "source": [
        "tensor_unsqueeze.shape"
      ],
      "metadata": {
        "colab": {
          "base_uri": "https://localhost:8080/"
        },
        "id": "Cbml3mwjdmxr",
        "outputId": "1a8a2d88-ad3a-4a1b-df4b-1bccfb068fad"
      },
      "execution_count": 85,
      "outputs": [
        {
          "output_type": "execute_result",
          "data": {
            "text/plain": [
              "torch.Size([3, 1, 3])"
            ]
          },
          "metadata": {},
          "execution_count": 85
        }
      ]
    },
    {
      "cell_type": "code",
      "source": [
        "tensor_transpose=torch.transpose(random_tensor,0,1)"
      ],
      "metadata": {
        "id": "nR_CpoHrdo20"
      },
      "execution_count": 86,
      "outputs": []
    },
    {
      "cell_type": "code",
      "source": [
        "tensor_transpose"
      ],
      "metadata": {
        "colab": {
          "base_uri": "https://localhost:8080/"
        },
        "id": "MYAmyjwSeBVg",
        "outputId": "09628bea-1a54-4a2e-e097-cc5c55a0b9bd"
      },
      "execution_count": 87,
      "outputs": [
        {
          "output_type": "execute_result",
          "data": {
            "text/plain": [
              "tensor([[  6,   9,   9],\n",
              "        [  5,   0,   6],\n",
              "        [  7,   3, 100]])"
            ]
          },
          "metadata": {},
          "execution_count": 87
        }
      ]
    },
    {
      "cell_type": "code",
      "source": [
        "sorted_tensor,sorted_indices = torch.sort(random_tensor)"
      ],
      "metadata": {
        "id": "qJi5w65NeEZi"
      },
      "execution_count": 88,
      "outputs": []
    },
    {
      "cell_type": "code",
      "source": [
        "sorted_indices"
      ],
      "metadata": {
        "colab": {
          "base_uri": "https://localhost:8080/"
        },
        "id": "L9ciG1gXgijf",
        "outputId": "6d068e2f-2a63-496a-9155-fe3cb5072bd4"
      },
      "execution_count": 89,
      "outputs": [
        {
          "output_type": "execute_result",
          "data": {
            "text/plain": [
              "tensor([[1, 0, 2],\n",
              "        [1, 2, 0],\n",
              "        [1, 0, 2]])"
            ]
          },
          "metadata": {},
          "execution_count": 89
        }
      ]
    },
    {
      "cell_type": "code",
      "source": [
        "sorted_tensor"
      ],
      "metadata": {
        "colab": {
          "base_uri": "https://localhost:8080/"
        },
        "id": "NUNyisWggj4J",
        "outputId": "307f1b3e-bfaa-4e5c-b2c5-52329fe0ee12"
      },
      "execution_count": 90,
      "outputs": [
        {
          "output_type": "execute_result",
          "data": {
            "text/plain": [
              "tensor([[  5,   6,   7],\n",
              "        [  0,   3,   9],\n",
              "        [  6,   9, 100]])"
            ]
          },
          "metadata": {},
          "execution_count": 90
        }
      ]
    },
    {
      "cell_type": "code",
      "source": [
        "rand1=torch.abs(torch.randn(2,3))\n",
        "rand2=torch.abs(torch.randn(2,3))"
      ],
      "metadata": {
        "id": "YVnC5gY9glhv"
      },
      "execution_count": 92,
      "outputs": []
    },
    {
      "cell_type": "code",
      "source": [
        "add1=rand1+rand2\n",
        "add1"
      ],
      "metadata": {
        "colab": {
          "base_uri": "https://localhost:8080/"
        },
        "id": "iHTRgnoShIkj",
        "outputId": "58b872d8-13d6-4c16-d25a-9b5264264a54"
      },
      "execution_count": 93,
      "outputs": [
        {
          "output_type": "execute_result",
          "data": {
            "text/plain": [
              "tensor([[1.1308, 0.8266, 0.8464],\n",
              "        [0.6153, 3.4740, 3.2324]])"
            ]
          },
          "metadata": {},
          "execution_count": 93
        }
      ]
    },
    {
      "cell_type": "code",
      "source": [
        "add2=torch.add(rand1,rand2)\n",
        "add2"
      ],
      "metadata": {
        "colab": {
          "base_uri": "https://localhost:8080/"
        },
        "id": "F7oRQhauhNv2",
        "outputId": "05665f73-e7ad-4342-c7f3-092d6930c5c5"
      },
      "execution_count": 95,
      "outputs": [
        {
          "output_type": "execute_result",
          "data": {
            "text/plain": [
              "tensor([[1.1308, 0.8266, 0.8464],\n",
              "        [0.6153, 3.4740, 3.2324]])"
            ]
          },
          "metadata": {},
          "execution_count": 95
        }
      ]
    },
    {
      "cell_type": "code",
      "source": [
        "add3= rand2+3"
      ],
      "metadata": {
        "id": "7YzB-DGuhVRv"
      },
      "execution_count": 96,
      "outputs": []
    },
    {
      "cell_type": "code",
      "source": [
        "add3"
      ],
      "metadata": {
        "colab": {
          "base_uri": "https://localhost:8080/"
        },
        "id": "jjUAeUXbhht-",
        "outputId": "fdf1e01d-de27-4c47-be67-aceb95d2e827"
      },
      "execution_count": 97,
      "outputs": [
        {
          "output_type": "execute_result",
          "data": {
            "text/plain": [
              "tensor([[3.7199, 3.2167, 3.5440],\n",
              "        [3.0867, 5.0861, 3.9538]])"
            ]
          },
          "metadata": {},
          "execution_count": 97
        }
      ]
    },
    {
      "cell_type": "code",
      "source": [
        "tensor= torch.Tensor([[-1,-2,-3],[1,2,3]])\n",
        "tensor_div=torch.div(tensor, tensor+0.3)"
      ],
      "metadata": {
        "id": "Sc6wUvyLhinh"
      },
      "execution_count": 98,
      "outputs": []
    },
    {
      "cell_type": "code",
      "source": [
        "tensor_div"
      ],
      "metadata": {
        "colab": {
          "base_uri": "https://localhost:8080/"
        },
        "id": "9vpGlnvCh8N8",
        "outputId": "80a94389-017f-4abc-a9dc-1ae3f774ffd0"
      },
      "execution_count": 99,
      "outputs": [
        {
          "output_type": "execute_result",
          "data": {
            "text/plain": [
              "tensor([[1.4286, 1.1765, 1.1111],\n",
              "        [0.7692, 0.8696, 0.9091]])"
            ]
          },
          "metadata": {},
          "execution_count": 99
        }
      ]
    },
    {
      "cell_type": "code",
      "source": [
        "tensor_mul = torch.mul(tensor, tensor)\n",
        "tensor_mul"
      ],
      "metadata": {
        "colab": {
          "base_uri": "https://localhost:8080/"
        },
        "id": "zncvvcU2h9pg",
        "outputId": "dddbb7df-31e1-4480-983c-ec4cc64ff4ef"
      },
      "execution_count": 101,
      "outputs": [
        {
          "output_type": "execute_result",
          "data": {
            "text/plain": [
              "tensor([[1., 4., 9.],\n",
              "        [1., 4., 9.]])"
            ]
          },
          "metadata": {},
          "execution_count": 101
        }
      ]
    },
    {
      "cell_type": "code",
      "source": [
        "tensor_clamp= torch.clamp(tensor, min=-0.2 , max=2)\n",
        "tensor_clamp"
      ],
      "metadata": {
        "colab": {
          "base_uri": "https://localhost:8080/"
        },
        "id": "3s6yc7ROiLLy",
        "outputId": "a04d04e1-fc29-40dc-fd97-73e581c3bd12"
      },
      "execution_count": 103,
      "outputs": [
        {
          "output_type": "execute_result",
          "data": {
            "text/plain": [
              "tensor([[-0.2000, -0.2000, -0.2000],\n",
              "        [ 1.0000,  2.0000,  2.0000]])"
            ]
          },
          "metadata": {},
          "execution_count": 103
        }
      ]
    },
    {
      "cell_type": "code",
      "source": [
        "t1=torch.Tensor([1,2])\n",
        "t2=torch.Tensor([10,20])\n",
        "dot_product= torch.dot(t1,t2)\n",
        "dot_product"
      ],
      "metadata": {
        "colab": {
          "base_uri": "https://localhost:8080/"
        },
        "id": "8rwrgMtOifoL",
        "outputId": "3de1586a-0719-44f8-ef16-99c034a6d31a"
      },
      "execution_count": 105,
      "outputs": [
        {
          "output_type": "execute_result",
          "data": {
            "text/plain": [
              "tensor(50.)"
            ]
          },
          "metadata": {},
          "execution_count": 105
        }
      ]
    },
    {
      "cell_type": "code",
      "source": [
        "matrix= torch.Tensor([[1,2,3],[4,5,6]]) #2*3\n",
        "vector= torch.Tensor([0,1,2]) #3*1\n",
        "matrix_vector= torch.mv(matrix,vector) #2*1\n",
        "matrix_vector"
      ],
      "metadata": {
        "colab": {
          "base_uri": "https://localhost:8080/"
        },
        "id": "CrygrYUiizze",
        "outputId": "7e5a30ba-d17a-4a34-f4b9-30a765975eef"
      },
      "execution_count": 107,
      "outputs": [
        {
          "output_type": "execute_result",
          "data": {
            "text/plain": [
              "tensor([ 8., 17.])"
            ]
          },
          "metadata": {},
          "execution_count": 107
        }
      ]
    },
    {
      "cell_type": "code",
      "source": [
        "another_matrix= torch.Tensor([[1,2],[3,4],[5,6]])\n",
        "matrix_mul = torch.mm(matrix,another_matrix)\n",
        "matrix_mul"
      ],
      "metadata": {
        "colab": {
          "base_uri": "https://localhost:8080/"
        },
        "id": "kufsTIBQjg_e",
        "outputId": "ed095bb8-0b28-4a9c-a786-61cc137f81f3"
      },
      "execution_count": 108,
      "outputs": [
        {
          "output_type": "execute_result",
          "data": {
            "text/plain": [
              "tensor([[22., 28.],\n",
              "        [49., 64.]])"
            ]
          },
          "metadata": {},
          "execution_count": 108
        }
      ]
    },
    {
      "cell_type": "code",
      "source": [
        "matrix_mul2= torch.mm(matrix,another_matrix)"
      ],
      "metadata": {
        "id": "kzdhIEyojVH2"
      },
      "execution_count": 110,
      "outputs": []
    },
    {
      "cell_type": "code",
      "source": [
        "matrix_mul2"
      ],
      "metadata": {
        "colab": {
          "base_uri": "https://localhost:8080/"
        },
        "id": "gC8rqshakAME",
        "outputId": "5ff181ee-eb89-4adb-e498-919a3ba3fb81"
      },
      "execution_count": 112,
      "outputs": [
        {
          "output_type": "execute_result",
          "data": {
            "text/plain": [
              "tensor([[22., 28.],\n",
              "        [49., 64.]])"
            ]
          },
          "metadata": {},
          "execution_count": 112
        }
      ]
    },
    {
      "cell_type": "code",
      "source": [
        "torch.argmax(matrix_mul, dim=1)"
      ],
      "metadata": {
        "colab": {
          "base_uri": "https://localhost:8080/"
        },
        "id": "3l3SvPR7kEDf",
        "outputId": "63bea744-8428-4209-d4a5-16f14ad38a57"
      },
      "execution_count": 113,
      "outputs": [
        {
          "output_type": "execute_result",
          "data": {
            "text/plain": [
              "tensor([1, 1])"
            ]
          },
          "metadata": {},
          "execution_count": 113
        }
      ]
    },
    {
      "cell_type": "code",
      "source": [
        "torch.argmin(matrix_mul,dim=1)"
      ],
      "metadata": {
        "colab": {
          "base_uri": "https://localhost:8080/"
        },
        "id": "slxJ0jcNkQk-",
        "outputId": "db921c35-3b30-48f9-ad38-d11206b047d2"
      },
      "execution_count": 114,
      "outputs": [
        {
          "output_type": "execute_result",
          "data": {
            "text/plain": [
              "tensor([0, 0])"
            ]
          },
          "metadata": {},
          "execution_count": 114
        }
      ]
    },
    {
      "cell_type": "markdown",
      "source": [
        "## Numpy and Torch relationship"
      ],
      "metadata": {
        "id": "y1-tKuWZkqc0"
      }
    },
    {
      "cell_type": "code",
      "source": [
        "# tghe NumPy array and the PyTorch tensor share the same underlying memory"
      ],
      "metadata": {
        "id": "aN3hm853kaK4"
      },
      "execution_count": 115,
      "outputs": []
    },
    {
      "cell_type": "code",
      "source": [],
      "metadata": {
        "id": "63WuqzLelMrL"
      },
      "execution_count": null,
      "outputs": []
    }
  ]
}